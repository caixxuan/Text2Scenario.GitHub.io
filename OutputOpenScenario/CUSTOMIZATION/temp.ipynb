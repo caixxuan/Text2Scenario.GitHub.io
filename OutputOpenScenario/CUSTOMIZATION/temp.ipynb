{
 "cells": [
  {
   "cell_type": "code",
   "execution_count": 2,
   "metadata": {},
   "outputs": [],
   "source": [
    "import os\n",
    " \n",
    "def create_folders(folder_names):\n",
    "    for folder_name in folder_names:\n",
    "        os.makedirs(folder_name)\n",
    " \n",
    "# 使用示例\n",
    "for i in range(51):\n",
    "    folder_names = [str(i)]\n",
    "    create_folders(folder_names)\n"
   ]
  }
 ],
 "metadata": {
  "kernelspec": {
   "display_name": "Python 3",
   "language": "python",
   "name": "python3"
  },
  "language_info": {
   "codemirror_mode": {
    "name": "ipython",
    "version": 3
   },
   "file_extension": ".py",
   "mimetype": "text/x-python",
   "name": "python",
   "nbconvert_exporter": "python",
   "pygments_lexer": "ipython3",
   "version": "3.11.8"
  }
 },
 "nbformat": 4,
 "nbformat_minor": 2
}
